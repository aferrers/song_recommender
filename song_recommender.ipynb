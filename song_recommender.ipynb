{
 "cells": [
  {
   "cell_type": "code",
   "execution_count": 1,
   "id": "f380362e-83a1-4375-9381-2eb6dcceb97f",
   "metadata": {},
   "outputs": [],
   "source": [
    "import functions_recommender"
   ]
  },
  {
   "cell_type": "code",
   "execution_count": 3,
   "id": "4f80593d-1ae4-48c9-9958-3b23969c62d6",
   "metadata": {},
   "outputs": [
    {
     "name": "stdout",
     "output_type": "stream",
     "text": [
      "this app will provide song recommendations based on your own personal music tastes. Please fill in the form...\n"
     ]
    },
    {
     "name": "stdin",
     "output_type": "stream",
     "text": [
      "Enter song name:  smells like teen spirit\n",
      "Enter artist name or press enter to skip:  \n"
     ]
    },
    {
     "name": "stdout",
     "output_type": "stream",
     "text": [
      "Searching the dark web for smells like teen spirit...\n",
      "Opps, it seems like the artist has hard name to remember... Don't worry, we will find your song!\n",
      "                          track_name artist_name\n",
      "0            Smells Like Teen Spirit     Nirvana\n",
      "1            Smells Like Teen Spirit      Witchz\n",
      "2            Smells Like Teen Spirit     Malia J\n",
      "3            Smells Like Teen Spirit     Naeleck\n",
      "4  Smells Like Teen Spirit - Alt Mix      Witchz\n"
     ]
    },
    {
     "name": "stdin",
     "output_type": "stream",
     "text": [
      "please select the correct song using values from 0 to 4 1\n"
     ]
    },
    {
     "name": "stdout",
     "output_type": "stream",
     "text": [
      "model loaded...\n",
      "dipping in the magic sauce...\n"
     ]
    },
    {
     "data": {
      "text/html": [
       "<div>\n",
       "<style scoped>\n",
       "    .dataframe tbody tr th:only-of-type {\n",
       "        vertical-align: middle;\n",
       "    }\n",
       "\n",
       "    .dataframe tbody tr th {\n",
       "        vertical-align: top;\n",
       "    }\n",
       "\n",
       "    .dataframe thead th {\n",
       "        text-align: right;\n",
       "    }\n",
       "</style>\n",
       "<table border=\"1\" class=\"dataframe\">\n",
       "  <thead>\n",
       "    <tr style=\"text-align: right;\">\n",
       "      <th></th>\n",
       "      <th>track_name</th>\n",
       "      <th>artist_name</th>\n",
       "    </tr>\n",
       "  </thead>\n",
       "  <tbody>\n",
       "    <tr>\n",
       "      <th>530</th>\n",
       "      <td>where do i go from here</td>\n",
       "      <td>robert cray</td>\n",
       "    </tr>\n",
       "    <tr>\n",
       "      <th>1273</th>\n",
       "      <td>all this time</td>\n",
       "      <td>tiffany</td>\n",
       "    </tr>\n",
       "    <tr>\n",
       "      <th>1035</th>\n",
       "      <td>the prodigal sun</td>\n",
       "      <td>the black angels</td>\n",
       "    </tr>\n",
       "    <tr>\n",
       "      <th>2676</th>\n",
       "      <td>two heads</td>\n",
       "      <td>jefferson airplane</td>\n",
       "    </tr>\n",
       "    <tr>\n",
       "      <th>111</th>\n",
       "      <td>feel something</td>\n",
       "      <td>jaymes young</td>\n",
       "    </tr>\n",
       "  </tbody>\n",
       "</table>\n",
       "</div>"
      ],
      "text/plain": [
       "                   track_name         artist_name\n",
       "530   where do i go from here         robert cray\n",
       "1273            all this time             tiffany\n",
       "1035         the prodigal sun    the black angels\n",
       "2676                two heads  jefferson airplane\n",
       "111            feel something        jaymes young"
      ]
     },
     "metadata": {},
     "output_type": "display_data"
    },
    {
     "name": "stdin",
     "output_type": "stream",
     "text": [
      "Thanks for using our song recommender, would you like more recommendations? (please answer: yes or no) no\n"
     ]
    },
    {
     "name": "stdout",
     "output_type": "stream",
     "text": [
      "thank you!\n"
     ]
    },
    {
     "data": {
      "text/html": [
       "<div>\n",
       "<style scoped>\n",
       "    .dataframe tbody tr th:only-of-type {\n",
       "        vertical-align: middle;\n",
       "    }\n",
       "\n",
       "    .dataframe tbody tr th {\n",
       "        vertical-align: top;\n",
       "    }\n",
       "\n",
       "    .dataframe thead th {\n",
       "        text-align: right;\n",
       "    }\n",
       "</style>\n",
       "<table border=\"1\" class=\"dataframe\">\n",
       "  <thead>\n",
       "    <tr style=\"text-align: right;\">\n",
       "      <th></th>\n",
       "      <th>track_name</th>\n",
       "      <th>artist_name</th>\n",
       "    </tr>\n",
       "  </thead>\n",
       "  <tbody>\n",
       "    <tr>\n",
       "      <th>530</th>\n",
       "      <td>where do i go from here</td>\n",
       "      <td>robert cray</td>\n",
       "    </tr>\n",
       "    <tr>\n",
       "      <th>1273</th>\n",
       "      <td>all this time</td>\n",
       "      <td>tiffany</td>\n",
       "    </tr>\n",
       "    <tr>\n",
       "      <th>1035</th>\n",
       "      <td>the prodigal sun</td>\n",
       "      <td>the black angels</td>\n",
       "    </tr>\n",
       "    <tr>\n",
       "      <th>2676</th>\n",
       "      <td>two heads</td>\n",
       "      <td>jefferson airplane</td>\n",
       "    </tr>\n",
       "    <tr>\n",
       "      <th>111</th>\n",
       "      <td>feel something</td>\n",
       "      <td>jaymes young</td>\n",
       "    </tr>\n",
       "  </tbody>\n",
       "</table>\n",
       "</div>"
      ],
      "text/plain": [
       "                   track_name         artist_name\n",
       "530   where do i go from here         robert cray\n",
       "1273            all this time             tiffany\n",
       "1035         the prodigal sun    the black angels\n",
       "2676                two heads  jefferson airplane\n",
       "111            feel something        jaymes young"
      ]
     },
     "execution_count": 3,
     "metadata": {},
     "output_type": "execute_result"
    }
   ],
   "source": [
    "functions_recommender.song_recommender()"
   ]
  }
 ],
 "metadata": {
  "kernelspec": {
   "display_name": "Python 3 (ipykernel)",
   "language": "python",
   "name": "python3"
  },
  "language_info": {
   "codemirror_mode": {
    "name": "ipython",
    "version": 3
   },
   "file_extension": ".py",
   "mimetype": "text/x-python",
   "name": "python",
   "nbconvert_exporter": "python",
   "pygments_lexer": "ipython3",
   "version": "3.11.7"
  }
 },
 "nbformat": 4,
 "nbformat_minor": 5
}
